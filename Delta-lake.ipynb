{
 "cells": [
  {
   "cell_type": "code",
   "execution_count": 1,
   "metadata": {},
   "outputs": [
    {
     "name": "stdout",
     "output_type": "stream",
     "text": [
      ":: loading settings :: url = jar:file:/Users/pee.tankulrat/Develop/TW/talk/delta-lake/.venv/lib/python3.12/site-packages/pyspark/jars/ivy-2.5.1.jar!/org/apache/ivy/core/settings/ivysettings.xml\n"
     ]
    },
    {
     "name": "stderr",
     "output_type": "stream",
     "text": [
      "Ivy Default Cache set to: /Users/pee.tankulrat/.ivy2/cache\n",
      "The jars for the packages stored in: /Users/pee.tankulrat/.ivy2/jars\n",
      "io.delta#delta-spark_2.12 added as a dependency\n",
      ":: resolving dependencies :: org.apache.spark#spark-submit-parent-69ad70be-3d9d-48fb-9f9f-5aba38144695;1.0\n",
      "\tconfs: [default]\n",
      "\tfound io.delta#delta-spark_2.12;3.1.0 in central\n",
      "\tfound io.delta#delta-storage;3.1.0 in central\n",
      "\tfound org.antlr#antlr4-runtime;4.9.3 in central\n",
      ":: resolution report :: resolve 99ms :: artifacts dl 3ms\n",
      "\t:: modules in use:\n",
      "\tio.delta#delta-spark_2.12;3.1.0 from central in [default]\n",
      "\tio.delta#delta-storage;3.1.0 from central in [default]\n",
      "\torg.antlr#antlr4-runtime;4.9.3 from central in [default]\n",
      "\t---------------------------------------------------------------------\n",
      "\t|                  |            modules            ||   artifacts   |\n",
      "\t|       conf       | number| search|dwnlded|evicted|| number|dwnlded|\n",
      "\t---------------------------------------------------------------------\n",
      "\t|      default     |   3   |   0   |   0   |   0   ||   3   |   0   |\n",
      "\t---------------------------------------------------------------------\n",
      ":: retrieving :: org.apache.spark#spark-submit-parent-69ad70be-3d9d-48fb-9f9f-5aba38144695\n",
      "\tconfs: [default]\n",
      "\t0 artifacts copied, 3 already retrieved (0kB/2ms)\n",
      "24/03/21 14:36:11 WARN NativeCodeLoader: Unable to load native-hadoop library for your platform... using builtin-java classes where applicable\n",
      "Setting default log level to \"WARN\".\n",
      "To adjust logging level use sc.setLogLevel(newLevel). For SparkR, use setLogLevel(newLevel).\n"
     ]
    },
    {
     "name": "stderr",
     "output_type": "stream",
     "text": [
      "24/03/21 14:36:28 WARN GarbageCollectionMetrics: To enable non-built-in garbage collector(s) List(G1 Concurrent GC), users should configure it(them) to spark.eventLog.gcMetrics.youngGenerationGarbageCollectors or spark.eventLog.gcMetrics.oldGenerationGarbageCollectors\n"
     ]
    }
   ],
   "source": [
    "from pyspark.sql import SparkSession\n",
    "from delta import configure_spark_with_delta_pip\n",
    "\n",
    "builder = (\n",
    "    SparkSession.builder.appName(\"MyApp\")\n",
    "    .config(\"spark.sql.extensions\", \"io.delta.sql.DeltaSparkSessionExtension\")\n",
    "    .config(\n",
    "        \"spark.sql.catalog.spark_catalog\",\n",
    "        \"org.apache.spark.sql.delta.catalog.DeltaCatalog\",\n",
    "    )\n",
    "    .config(\"spark.serializer\", \"org.apache.spark.serializer.KryoSerializer\")\n",
    "    .config(\"spark.driver.memory\", \"8g\")\n",
    ")\n",
    "\n",
    "spark = configure_spark_with_delta_pip(builder).getOrCreate()"
   ]
  },
  {
   "cell_type": "markdown",
   "metadata": {},
   "source": []
  },
  {
   "cell_type": "code",
   "execution_count": 2,
   "metadata": {},
   "outputs": [],
   "source": [
    "eCommerce = spark.read.option(\"header\", \"true\").csv(\"data/eCommerce/*.csv\")"
   ]
  },
  {
   "cell_type": "markdown",
   "metadata": {},
   "source": [
    "## It is slow to work on non-columnar files"
   ]
  },
  {
   "cell_type": "code",
   "execution_count": 3,
   "metadata": {},
   "outputs": [
    {
     "name": "stderr",
     "output_type": "stream",
     "text": [
      "                                                                                \r"
     ]
    },
    {
     "data": {
      "text/plain": [
       "109950743"
      ]
     },
     "execution_count": 3,
     "metadata": {},
     "output_type": "execute_result"
    }
   ],
   "source": [
    "eCommerce.count()"
   ]
  },
  {
   "cell_type": "code",
   "execution_count": 4,
   "metadata": {},
   "outputs": [
    {
     "name": "stderr",
     "output_type": "stream",
     "text": [
      "24/03/21 14:38:02 WARN SparkStringUtils: Truncated the string representation of a plan since it was too large. This behavior can be adjusted by setting 'spark.sql.debug.maxToStringFields'.\n"
     ]
    }
   ],
   "source": [
    "# TODO: Make this idempotent\n",
    "eCommerce.write.format(\"delta\").mode('overwrite').save(\"./data/delta/raw/eCommerce\")"
   ]
  },
  {
   "cell_type": "code",
   "execution_count": 5,
   "metadata": {},
   "outputs": [
    {
     "data": {
      "text/plain": [
       "109950743"
      ]
     },
     "execution_count": 5,
     "metadata": {},
     "output_type": "execute_result"
    }
   ],
   "source": [
    "eComDelta = spark.read.format(\"delta\").load(\"./data/delta/raw/eCommerce\")\n",
    "eComDelta.count()"
   ]
  },
  {
   "cell_type": "code",
   "execution_count": 7,
   "metadata": {},
   "outputs": [
    {
     "name": "stdout",
     "output_type": "stream",
     "text": [
      "+--------------------+----------+----------+-------------------+--------------------+--------+-------+---------+--------------------+\n",
      "|          event_time|event_type|product_id|        category_id|       category_code|   brand|  price|  user_id|        user_session|\n",
      "+--------------------+----------+----------+-------------------+--------------------+--------+-------+---------+--------------------+\n",
      "|2019-10-25 13:38:...|      view|  28717850|2053013565639492569|       apparel.shoes|    NULL| 177.35|562154821|3fcba72e-a3f7-450...|\n",
      "|2019-10-25 13:38:...|  purchase|   1004856|2053013555631882655|electronics.smart...| samsung| 131.51|512711994|3b99facc-1331-4b2...|\n",
      "|2019-10-25 13:38:...|      view|   1307236|2053013558920217191|  computers.notebook|  lenovo| 320.96|544749446|058ba4d7-23e0-4e6...|\n",
      "|2019-10-25 13:38:...|      view|   4700630|2053013560899928785|auto.accessories....|    NULL|  30.86|558665584|50e91e76-5259-472...|\n",
      "|2019-10-25 13:38:...|      view|   8200231|2053013555413778833|                NULL|    NULL|  76.93|518506538|99636577-4b2d-4be...|\n",
      "|2019-10-25 13:38:...|      view|  42300003|2095518921321874323|furniture.living_...|    NULL| 185.33|544929366|0aa480c1-feaa-416...|\n",
      "|2019-10-25 13:38:...|      view|  26400114|2053013563651392361|                NULL|    vega|  46.33|513429029|131bb400-43ec-4db...|\n",
      "|2019-10-25 13:38:...|      view|   1005031|2053013555631882655|electronics.smart...|  xiaomi| 182.98|515223417|e98f02be-a1d2-485...|\n",
      "|2019-10-25 13:38:...|      view|   1002633|2053013555631882655|electronics.smart...|   apple| 358.54|544419643|0a9232cb-510d-48c...|\n",
      "|2019-10-25 13:38:...|      view|   4400189|2053013555095011711|appliances.kitche...| maxwell|  15.42|515408260|1bdb246e-f5a8-444...|\n",
      "|2019-10-25 13:38:...|      view|   1201465|2172371436436455782|  electronics.tablet| samsung| 235.97|515402798|095ff4db-c9b0-489...|\n",
      "|2019-10-25 13:38:...|      view|  12702043|2053013553559896355|                NULL|    NULL|  65.12|541264788|40748c82-a6aa-443...|\n",
      "|2019-10-25 13:38:...|      view|   2702277|2053013563911439225|appliances.kitche...|      lg| 465.72|512911652|2742f8b3-c2ad-4f9...|\n",
      "|2019-10-25 13:38:...|      view|  12718234|2053013553559896355|                NULL| pirelli| 146.59|546562558|e6ffe870-9616-409...|\n",
      "|2019-10-25 13:38:...|      view|   9400048|2053013566067311601|                NULL|  janome| 355.60|538515393|a2864037-9a75-441...|\n",
      "|2019-10-25 13:38:...|      view|   2800596|2053013563835941749|appliances.kitche...|    xing| 166.36|512499642|612f4c35-0a84-4e9...|\n",
      "|2019-10-25 13:38:...|      cart|   1004237|2053013555631882655|electronics.smart...|   apple|1093.85|548380620|9750d256-a5a7-434...|\n",
      "|2019-10-25 13:38:...|      view|   9200607|2053013552913973497|computers.periphe...|defender|   9.24|564065380|a1e669db-7494-465...|\n",
      "|2019-10-25 13:38:...|      view|   8800048|2053013555573162395|electronics.telep...|   nokia|  22.12|564064853|24c2bcfe-c3a3-476...|\n",
      "|2019-10-25 13:38:...|      view|   1201504|2172371436436455782|  electronics.tablet| samsung| 162.93|564065817|1f1f7de0-195c-418...|\n",
      "+--------------------+----------+----------+-------------------+--------------------+--------+-------+---------+--------------------+\n",
      "only showing top 20 rows\n",
      "\n"
     ]
    }
   ],
   "source": [
    "eComDelta.show()"
   ]
  },
  {
   "cell_type": "markdown",
   "metadata": {},
   "source": [
    "## Let's discard NULL records"
   ]
  },
  {
   "cell_type": "code",
   "execution_count": 9,
   "metadata": {},
   "outputs": [
    {
     "name": "stderr",
     "output_type": "stream",
     "text": [
      "                                                                                \r"
     ]
    }
   ],
   "source": [
    "refined = eComDelta.filter(eComDelta.brand.isNotNull())\n",
    "refined.write.format(\"delta\").mode('overwrite').save(\"./data/delta/rfn/eCommerce\")"
   ]
  },
  {
   "cell_type": "code",
   "execution_count": 10,
   "metadata": {},
   "outputs": [
    {
     "name": "stderr",
     "output_type": "stream",
     "text": [
      "                                                                                \r"
     ]
    },
    {
     "data": {
      "text/plain": [
       "[Row(event_type='purchase'), Row(event_type='view'), Row(event_type='cart')]"
      ]
     },
     "execution_count": 10,
     "metadata": {},
     "output_type": "execute_result"
    }
   ],
   "source": [
    "refined.select('event_type').distinct().collect()"
   ]
  },
  {
   "cell_type": "code",
   "execution_count": 11,
   "metadata": {},
   "outputs": [
    {
     "name": "stderr",
     "output_type": "stream",
     "text": [
      "                                                                                \r"
     ]
    },
    {
     "data": {
      "text/plain": [
       "423"
      ]
     },
     "execution_count": 11,
     "metadata": {},
     "output_type": "execute_result"
    }
   ],
   "source": [
    "dysonPurchaseDf = refined.filter(refined.brand == \"dyson\").filter(\n",
    "    refined.event_type == \"purchase\"\n",
    ")\n",
    "dysonPurchaseDf.count()"
   ]
  },
  {
   "cell_type": "markdown",
   "metadata": {},
   "source": [
    "## Do people spend more, if they are buying Dyson's product?"
   ]
  },
  {
   "cell_type": "code",
   "execution_count": 12,
   "metadata": {},
   "outputs": [
    {
     "name": "stderr",
     "output_type": "stream",
     "text": [
      "[Stage 49:=======================>                               (17 + 14) / 39]\r"
     ]
    },
    {
     "name": "stdout",
     "output_type": "stream",
     "text": [
      "+-------+------------------+\n",
      "|summary|             price|\n",
      "+-------+------------------+\n",
      "|  count|               423|\n",
      "|   mean| 559.8790070921985|\n",
      "| stddev|148.92210018071378|\n",
      "|    min|            307.83|\n",
      "|    25%|            478.75|\n",
      "|    50%|            509.64|\n",
      "|    75%|            694.74|\n",
      "|    max|            846.80|\n",
      "+-------+------------------+\n",
      "\n"
     ]
    },
    {
     "name": "stderr",
     "output_type": "stream",
     "text": [
      "                                                                                \r"
     ]
    }
   ],
   "source": [
    "dysonPurchaseDf.select('price').summary().show()"
   ]
  },
  {
   "cell_type": "code",
   "execution_count": 13,
   "metadata": {},
   "outputs": [
    {
     "name": "stderr",
     "output_type": "stream",
     "text": [
      "[Stage 54:===================================================>    (36 + 3) / 39]\r"
     ]
    },
    {
     "name": "stdout",
     "output_type": "stream",
     "text": [
      "+-------+------------------+\n",
      "|summary|             price|\n",
      "+-------+------------------+\n",
      "|  count|           1527878|\n",
      "|   mean|317.66230296529335|\n",
      "| stddev| 351.7339956988872|\n",
      "|    min|              0.77|\n",
      "|    25%|             91.38|\n",
      "|    50%|            180.16|\n",
      "|    75%|            386.08|\n",
      "|    max|            999.77|\n",
      "+-------+------------------+\n",
      "\n"
     ]
    },
    {
     "name": "stderr",
     "output_type": "stream",
     "text": [
      "                                                                                \r"
     ]
    }
   ],
   "source": [
    "(\n",
    "    eComDelta\n",
    "    .filter(eComDelta.brand.isNotNull())\n",
    "    .filter(eComDelta.brand != \"dyson\")\n",
    "    .filter(eComDelta.event_type == \"purchase\")\n",
    "    .select(\"price\")\n",
    "    .summary()\n",
    "    .show()\n",
    ")"
   ]
  }
 ],
 "metadata": {
  "kernelspec": {
   "display_name": ".venv",
   "language": "python",
   "name": "python3"
  },
  "language_info": {
   "codemirror_mode": {
    "name": "ipython",
    "version": 3
   },
   "file_extension": ".py",
   "mimetype": "text/x-python",
   "name": "python",
   "nbconvert_exporter": "python",
   "pygments_lexer": "ipython3",
   "version": "3.12.2"
  }
 },
 "nbformat": 4,
 "nbformat_minor": 2
}
